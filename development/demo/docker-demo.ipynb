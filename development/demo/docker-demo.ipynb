{
 "cells": [
  {
   "cell_type": "markdown",
   "metadata": {},
   "source": [
    "### Start a spark session"
   ]
  },
  {
   "cell_type": "code",
   "execution_count": 37,
   "metadata": {},
   "outputs": [],
   "source": [
    "import os\n",
    "os.environ[\"_JAVA_OPTIONS\"] = \"-Djava.security.manager=allow\"\n",
    "\n",
    "from pyspark.sql import SparkSession\n",
    "\n",
    "spark = SparkSession \\\n",
    "    .builder \\\n",
    "    .appName(\"Python Spark SQL basic example\") \\\n",
    "    .config(\"spark.sql.extensions\", \"io.delta.sql.DeltaSparkSessionExtension\") \\\n",
    "    .config(\"spark.sql.catalog.spark_catalog\", \"org.apache.spark.sql.delta.catalog.DeltaCatalog\") \\\n",
    "    .config(\"spark.jars.packages\", \"io.delta:delta-sharing-spark_2.12:3.3.0\") \\\n",
    "    .getOrCreate()"
   ]
  },
  {
   "cell_type": "markdown",
   "metadata": {
    "application/vnd.databricks.v1+cell": {
     "cellMetadata": {},
     "inputWidgets": {},
     "nuid": "aee784f9-1eb0-4a68-b122-22e05faedf3e",
     "showTitle": false,
     "tableResultSettingsMap": {},
     "title": ""
    }
   },
   "source": [
    "### List Tables\n",
    "Use the provided config"
   ]
  },
  {
   "cell_type": "code",
   "execution_count": 38,
   "metadata": {},
   "outputs": [
    {
     "data": {
      "text/plain": [
       "[Table(name='ev3_device_data', share='start_hack_2025', schema='start_hack_2025'),\n",
       " Table(name='cc_api_logs', share='start_hack_2025', schema='start_hack_2025'),\n",
       " Table(name='ev3_dataprofile', share='start_hack_2025', schema='start_hack_2025')]"
      ]
     },
     "execution_count": 38,
     "metadata": {},
     "output_type": "execute_result"
    }
   ],
   "source": [
    "import delta_sharing\n",
    "config = \"config.share\"\n",
    "client = delta_sharing.SharingClient(config)\n",
    "client.list_all_tables()"
   ]
  },
  {
   "cell_type": "markdown",
   "metadata": {
    "application/vnd.databricks.v1+cell": {
     "cellMetadata": {},
     "inputWidgets": {},
     "nuid": "04d6c843-0398-4933-ad9c-2e806ea5a3ad",
     "showTitle": false,
     "tableResultSettingsMap": {},
     "title": ""
    }
   },
   "source": [
    "### Table 1\n",
    "Energyvalve 3 dataprofile describing the datapoints found in the device data table."
   ]
  },
  {
   "cell_type": "code",
   "execution_count": 39,
   "metadata": {
    "application/vnd.databricks.v1+cell": {
     "cellMetadata": {
      "byteLimit": 2048000,
      "rowLimit": 10000
     },
     "inputWidgets": {},
     "nuid": "ec8533c7-c95d-4d0a-9cd2-7d3995367409",
     "showTitle": false,
     "tableResultSettingsMap": {},
     "title": ""
    }
   },
   "outputs": [
    {
     "name": "stderr",
     "output_type": "stream",
     "text": [
      "25/03/19 23:02:51 WARN DeltaSharingUtils: Found and removing existing block for test_delta-sharing-log:/config.share%23start_hack_2025.start_hack_2025.ev3_dataprofile_fbcf4ba6a021707ee87d3b8b548e612345a084122031faa972b3ecb013bd036a/_delta_log/00000000000000000000.json.\n",
      "25/03/19 23:02:51 WARN DeltaSharingUtils: Found and removing existing block for test_delta-sharing-log:/config.share%23start_hack_2025.start_hack_2025.ev3_dataprofile_fbcf4ba6a021707ee87d3b8b548e612345a084122031faa972b3ecb013bd036a/_delta_log.\n"
     ]
    },
    {
     "data": {
      "text/html": [
       "<div>\n",
       "<style scoped>\n",
       "    .dataframe tbody tr th:only-of-type {\n",
       "        vertical-align: middle;\n",
       "    }\n",
       "\n",
       "    .dataframe tbody tr th {\n",
       "        vertical-align: top;\n",
       "    }\n",
       "\n",
       "    .dataframe thead th {\n",
       "        text-align: right;\n",
       "    }\n",
       "</style>\n",
       "<table border=\"1\" class=\"dataframe\">\n",
       "  <thead>\n",
       "    <tr style=\"text-align: right;\">\n",
       "      <th></th>\n",
       "      <th>id</th>\n",
       "      <th>access</th>\n",
       "      <th>basetype</th>\n",
       "      <th>description</th>\n",
       "      <th>format</th>\n",
       "      <th>name</th>\n",
       "      <th>privacy</th>\n",
       "      <th>restriction</th>\n",
       "      <th>definedBy</th>\n",
       "      <th>unit</th>\n",
       "    </tr>\n",
       "  </thead>\n",
       "  <tbody>\n",
       "    <tr>\n",
       "      <th>0</th>\n",
       "      <td>evcloud.00009</td>\n",
       "      <td>r</td>\n",
       "      <td>int</td>\n",
       "      <td>Valve Type</td>\n",
       "      <td>application/vnd.belimo.enum;0|1</td>\n",
       "      <td>ValveType</td>\n",
       "      <td>False</td>\n",
       "      <td>uint8</td>\n",
       "      <td>evcloud/1.2</td>\n",
       "      <td>None</td>\n",
       "    </tr>\n",
       "    <tr>\n",
       "      <th>1</th>\n",
       "      <td>evcloud.10</td>\n",
       "      <td>r</td>\n",
       "      <td>int</td>\n",
       "      <td>DN Size of Valve</td>\n",
       "      <td>None</td>\n",
       "      <td>DN_Size</td>\n",
       "      <td>False</td>\n",
       "      <td>int32</td>\n",
       "      <td>evcloud/1.2</td>\n",
       "      <td>None</td>\n",
       "    </tr>\n",
       "    <tr>\n",
       "      <th>2</th>\n",
       "      <td>evcloud.100</td>\n",
       "      <td>r</td>\n",
       "      <td>real</td>\n",
       "      <td>Relative Flow in %</td>\n",
       "      <td>None</td>\n",
       "      <td>RelFlow_Fb_Rel2Vmax</td>\n",
       "      <td>False</td>\n",
       "      <td>[-2147483.648,2147483.647]</td>\n",
       "      <td>evcloud/1.2</td>\n",
       "      <td>percent</td>\n",
       "    </tr>\n",
       "  </tbody>\n",
       "</table>\n",
       "</div>"
      ],
      "text/plain": [
       "              id access basetype         description  \\\n",
       "0  evcloud.00009      r      int          Valve Type   \n",
       "1     evcloud.10      r      int    DN Size of Valve   \n",
       "2    evcloud.100      r     real  Relative Flow in %   \n",
       "\n",
       "                            format                 name  privacy  \\\n",
       "0  application/vnd.belimo.enum;0|1            ValveType    False   \n",
       "1                             None              DN_Size    False   \n",
       "2                             None  RelFlow_Fb_Rel2Vmax    False   \n",
       "\n",
       "                  restriction    definedBy     unit  \n",
       "0                       uint8  evcloud/1.2     None  \n",
       "1                       int32  evcloud/1.2     None  \n",
       "2  [-2147483.648,2147483.647]  evcloud/1.2  percent  "
      ]
     },
     "execution_count": 39,
     "metadata": {},
     "output_type": "execute_result"
    }
   ],
   "source": [
    "df = spark.read.format(\"deltaSharing\").load(\"config.share#start_hack_2025.start_hack_2025.ev3_dataprofile\").limit(3)\n",
    "df.toPandas()"
   ]
  },
  {
   "cell_type": "markdown",
   "metadata": {
    "application/vnd.databricks.v1+cell": {
     "cellMetadata": {},
     "inputWidgets": {},
     "nuid": "b8cf45ee-e8b7-49db-a675-c0236849895b",
     "showTitle": false,
     "tableResultSettingsMap": {},
     "title": ""
    }
   },
   "source": [
    "### Table 2\n",
    "Energyvalve 3 device data. **Big data** list of timeseries samples for devices. Devices are differentiated by the **device_id** column."
   ]
  },
  {
   "cell_type": "code",
   "execution_count": 40,
   "metadata": {
    "application/vnd.databricks.v1+cell": {
     "cellMetadata": {
      "byteLimit": 2048000,
      "rowLimit": 10000
     },
     "inputWidgets": {},
     "nuid": "ff67b5b1-266b-4438-a46f-1773314774cd",
     "showTitle": false,
     "tableResultSettingsMap": {},
     "title": ""
    }
   },
   "outputs": [
    {
     "name": "stderr",
     "output_type": "stream",
     "text": [
      "25/03/19 23:02:53 WARN DeltaSharingUtils: Found and removing existing block for test_delta-sharing-log:/config.share%23start_hack_2025.start_hack_2025.ev3_device_data_b6246cb0b36df100d2465f85fd441e05916581968a770c3b475b800f707dceab/_delta_log/00000000000000000000.json.\n",
      "25/03/19 23:02:53 WARN DeltaSharingUtils: Found and removing existing block for test_delta-sharing-log:/config.share%23start_hack_2025.start_hack_2025.ev3_device_data_b6246cb0b36df100d2465f85fd441e05916581968a770c3b475b800f707dceab/_delta_log.\n",
      "                                                                                "
     ]
    },
    {
     "data": {
      "text/html": [
       "<div>\n",
       "<style scoped>\n",
       "    .dataframe tbody tr th:only-of-type {\n",
       "        vertical-align: middle;\n",
       "    }\n",
       "\n",
       "    .dataframe tbody tr th {\n",
       "        vertical-align: top;\n",
       "    }\n",
       "\n",
       "    .dataframe thead th {\n",
       "        text-align: right;\n",
       "    }\n",
       "</style>\n",
       "<table border=\"1\" class=\"dataframe\">\n",
       "  <thead>\n",
       "    <tr style=\"text-align: right;\">\n",
       "      <th></th>\n",
       "      <th>device_id</th>\n",
       "      <th>dataprofile_id</th>\n",
       "      <th>cloud_received_time</th>\n",
       "      <th>sample_time</th>\n",
       "      <th>year</th>\n",
       "      <th>year_month</th>\n",
       "      <th>year_month_day</th>\n",
       "      <th>influx_migration_source_filename</th>\n",
       "      <th>T1_remote_K</th>\n",
       "      <th>T2_embeded_K</th>\n",
       "      <th>...</th>\n",
       "      <th>SpDeltaT_applied_K</th>\n",
       "      <th>Error_Status_Cloud</th>\n",
       "      <th>DDC_BUS_Sp_Write</th>\n",
       "      <th>dT_Manager_Ste</th>\n",
       "      <th>Active_dT_Manager_total_h</th>\n",
       "      <th>DeltaT_K</th>\n",
       "      <th>DDC_Sp_V</th>\n",
       "      <th>OperatingHours</th>\n",
       "      <th>Flow_Volume_total_m3</th>\n",
       "      <th>Y3AnalogInputValue</th>\n",
       "    </tr>\n",
       "  </thead>\n",
       "  <tbody>\n",
       "    <tr>\n",
       "      <th>0</th>\n",
       "      <td>14e5bc06-9e32-4938-96df-82a070581e7d</td>\n",
       "      <td>energyvalve3/1.11</td>\n",
       "      <td>2019-06-09 11:40:34.098</td>\n",
       "      <td>2019-06-09 11:38:32.312</td>\n",
       "      <td>2019</td>\n",
       "      <td>201906</td>\n",
       "      <td>20190609</td>\n",
       "      <td>2019-06-09_09.gz</td>\n",
       "      <td>349.924869</td>\n",
       "      <td>323.425260</td>\n",
       "      <td>...</td>\n",
       "      <td>10.0</td>\n",
       "      <td>0.0</td>\n",
       "      <td>91.900002</td>\n",
       "      <td>2</td>\n",
       "      <td>0.0</td>\n",
       "      <td>26.499609</td>\n",
       "      <td>4.940656e-324</td>\n",
       "      <td>2278.438304</td>\n",
       "      <td>9454.135186</td>\n",
       "      <td>NaN</td>\n",
       "    </tr>\n",
       "    <tr>\n",
       "      <th>1</th>\n",
       "      <td>14e5bc06-9e32-4938-96df-82a070581e7d</td>\n",
       "      <td>energyvalve3/1.11</td>\n",
       "      <td>2019-06-19 01:18:23.274</td>\n",
       "      <td>2019-06-19 01:17:21.806</td>\n",
       "      <td>2019</td>\n",
       "      <td>201906</td>\n",
       "      <td>20190618</td>\n",
       "      <td>2019-06-18_23.gz</td>\n",
       "      <td>349.945812</td>\n",
       "      <td>323.440885</td>\n",
       "      <td>...</td>\n",
       "      <td>5.0</td>\n",
       "      <td>0.0</td>\n",
       "      <td>19.700001</td>\n",
       "      <td>2</td>\n",
       "      <td>0.0</td>\n",
       "      <td>26.504926</td>\n",
       "      <td>4.940656e-324</td>\n",
       "      <td>2508.085700</td>\n",
       "      <td>10513.017983</td>\n",
       "      <td>NaN</td>\n",
       "    </tr>\n",
       "    <tr>\n",
       "      <th>2</th>\n",
       "      <td>15cbf304-2834-4523-81d1-45c0bbc0f849</td>\n",
       "      <td>energyvalve3/1.11</td>\n",
       "      <td>2019-06-17 05:36:49.933</td>\n",
       "      <td>2019-06-17 05:33:48.073</td>\n",
       "      <td>2019</td>\n",
       "      <td>201906</td>\n",
       "      <td>20190617</td>\n",
       "      <td>2019-06-17_03.gz</td>\n",
       "      <td>351.181414</td>\n",
       "      <td>324.487760</td>\n",
       "      <td>...</td>\n",
       "      <td>5.0</td>\n",
       "      <td>0.0</td>\n",
       "      <td>31.400000</td>\n",
       "      <td>2</td>\n",
       "      <td>0.0</td>\n",
       "      <td>26.693653</td>\n",
       "      <td>1.361569e-04</td>\n",
       "      <td>2484.714193</td>\n",
       "      <td>35993.262013</td>\n",
       "      <td>NaN</td>\n",
       "    </tr>\n",
       "  </tbody>\n",
       "</table>\n",
       "<p>3 rows × 38 columns</p>\n",
       "</div>"
      ],
      "text/plain": [
       "                              device_id     dataprofile_id  \\\n",
       "0  14e5bc06-9e32-4938-96df-82a070581e7d  energyvalve3/1.11   \n",
       "1  14e5bc06-9e32-4938-96df-82a070581e7d  energyvalve3/1.11   \n",
       "2  15cbf304-2834-4523-81d1-45c0bbc0f849  energyvalve3/1.11   \n",
       "\n",
       "      cloud_received_time             sample_time  year year_month  \\\n",
       "0 2019-06-09 11:40:34.098 2019-06-09 11:38:32.312  2019     201906   \n",
       "1 2019-06-19 01:18:23.274 2019-06-19 01:17:21.806  2019     201906   \n",
       "2 2019-06-17 05:36:49.933 2019-06-17 05:33:48.073  2019     201906   \n",
       "\n",
       "  year_month_day influx_migration_source_filename  T1_remote_K  T2_embeded_K  \\\n",
       "0       20190609                 2019-06-09_09.gz   349.924869    323.425260   \n",
       "1       20190618                 2019-06-18_23.gz   349.945812    323.440885   \n",
       "2       20190617                 2019-06-17_03.gz   351.181414    324.487760   \n",
       "\n",
       "   ...  SpDeltaT_applied_K  Error_Status_Cloud  DDC_BUS_Sp_Write  \\\n",
       "0  ...                10.0                 0.0         91.900002   \n",
       "1  ...                 5.0                 0.0         19.700001   \n",
       "2  ...                 5.0                 0.0         31.400000   \n",
       "\n",
       "   dT_Manager_Ste  Active_dT_Manager_total_h   DeltaT_K       DDC_Sp_V  \\\n",
       "0               2                        0.0  26.499609  4.940656e-324   \n",
       "1               2                        0.0  26.504926  4.940656e-324   \n",
       "2               2                        0.0  26.693653   1.361569e-04   \n",
       "\n",
       "   OperatingHours  Flow_Volume_total_m3  Y3AnalogInputValue  \n",
       "0     2278.438304           9454.135186                 NaN  \n",
       "1     2508.085700          10513.017983                 NaN  \n",
       "2     2484.714193          35993.262013                 NaN  \n",
       "\n",
       "[3 rows x 38 columns]"
      ]
     },
     "execution_count": 40,
     "metadata": {},
     "output_type": "execute_result"
    }
   ],
   "source": [
    "df = spark.read.format(\"deltaSharing\").load(\"config.share#start_hack_2025.start_hack_2025.ev3_device_data\").limit(3)\n",
    "df.toPandas()"
   ]
  },
  {
   "cell_type": "markdown",
   "metadata": {},
   "source": [
    "### Plot\n",
    "Heat Exchanger Characteristic"
   ]
  },
  {
   "cell_type": "code",
   "execution_count": 41,
   "metadata": {
    "application/vnd.databricks.v1+cell": {
     "cellMetadata": {
      "byteLimit": 2048000,
      "rowLimit": 10000
     },
     "inputWidgets": {},
     "nuid": "a10e495f-7c0b-4e02-b148-a59d7219cc31",
     "showTitle": false,
     "tableResultSettingsMap": {},
     "title": ""
    }
   },
   "outputs": [
    {
     "name": "stderr",
     "output_type": "stream",
     "text": [
      "25/03/19 23:03:15 WARN DeltaSharingUtils: Found and removing existing block for test_delta-sharing-log:/config.share%23start_hack_2025.start_hack_2025.ev3_device_data_6c7f6f48953ad565ca1df276d8e29412cb073887aa19e36f0d19de283adbb6dd/_delta_log/00000000000000000000.json.\n",
      "25/03/19 23:03:15 WARN DeltaSharingUtils: Found and removing existing block for test_delta-sharing-log:/config.share%23start_hack_2025.start_hack_2025.ev3_device_data_6c7f6f48953ad565ca1df276d8e29412cb073887aa19e36f0d19de283adbb6dd/_delta_log.\n",
      "                                                                                "
     ]
    },
    {
     "data": {
      "image/png": "[encoded data removed]",
      "text/plain": [
       "<Figure size 640x480 with 1 Axes>"
      ]
     },
     "metadata": {},
     "output_type": "display_data"
    }
   ],
   "source": [
    "from pyspark.sql.functions import col\n",
    "import matplotlib.pyplot as plt\n",
    "\n",
    "device_id = \"1a9da8fa-6fa8-49f3-8aaa-420b34eefe57\"\n",
    "year_month = \"202103\"\n",
    "x = \"AbsFlow_Fb_m3s\"\n",
    "y = \"AbsPower_Fb_W\"\n",
    "df_data = spark.read.format(\"deltaSharing\").load(\"config.share#start_hack_2025.start_hack_2025.ev3_device_data\").filter((col(\"device_id\") == device_id) & (col(\"year_month\") == year_month)).toPandas()\n",
    "year_month = year_month[:4] + '-' + year_month[4:]\n",
    "plt.scatter(df_data[x], df_data[y])\n",
    "plt.xlabel(x)\n",
    "plt.ylabel(y)\n",
    "plt.title(f\"Heat Exchanger Measurments ({year_month}) \\n Device ID: {device_id}\")\n",
    "plt.show()"
   ]
  },
  {
   "cell_type": "markdown",
   "metadata": {
    "application/vnd.databricks.v1+cell": {
     "cellMetadata": {},
     "inputWidgets": {},
     "nuid": "d3e14ff0-96e1-4a81-8695-48b0209be9fc",
     "showTitle": false,
     "tableResultSettingsMap": {},
     "title": ""
    }
   },
   "source": [
    "### Table 3\n",
    "Cloud api logs describing interactions with our cloud."
   ]
  },
  {
   "cell_type": "code",
   "execution_count": 42,
   "metadata": {
    "application/vnd.databricks.v1+cell": {
     "cellMetadata": {
      "byteLimit": 2048000,
      "rowLimit": 10000
     },
     "inputWidgets": {},
     "nuid": "4a3e8aea-23ef-4edf-b9be-435a89d82fba",
     "showTitle": false,
     "tableResultSettingsMap": {},
     "title": ""
    }
   },
   "outputs": [
    {
     "name": "stderr",
     "output_type": "stream",
     "text": [
      "25/03/19 23:04:09 WARN DeltaSharingUtils: Found and removing existing block for test_delta-sharing-log:/config.share%23start_hack_2025.start_hack_2025.cc_api_logs_66bf9243f754b97b405b3403cb2a3ed13dc24e5c4cc79463952a1cbf0b0ff745/_delta_log/00000000000000000000.json.\n",
      "25/03/19 23:04:09 WARN DeltaSharingUtils: Found and removing existing block for test_delta-sharing-log:/config.share%23start_hack_2025.start_hack_2025.cc_api_logs_66bf9243f754b97b405b3403cb2a3ed13dc24e5c4cc79463952a1cbf0b0ff745/_delta_log.\n",
      "                                                                                "
     ]
    },
    {
     "data": {
      "text/html": [
       "<div>\n",
       "<style scoped>\n",
       "    .dataframe tbody tr th:only-of-type {\n",
       "        vertical-align: middle;\n",
       "    }\n",
       "\n",
       "    .dataframe tbody tr th {\n",
       "        vertical-align: top;\n",
       "    }\n",
       "\n",
       "    .dataframe thead th {\n",
       "        text-align: right;\n",
       "    }\n",
       "</style>\n",
       "<table border=\"1\" class=\"dataframe\">\n",
       "  <thead>\n",
       "    <tr style=\"text-align: right;\">\n",
       "      <th></th>\n",
       "      <th>api</th>\n",
       "      <th>class</th>\n",
       "      <th>cloudEnv</th>\n",
       "      <th>component</th>\n",
       "      <th>correlationId</th>\n",
       "      <th>developmentDevice</th>\n",
       "      <th>durationInMs</th>\n",
       "      <th>host</th>\n",
       "      <th>httpStatus</th>\n",
       "      <th>logEnv</th>\n",
       "      <th>...</th>\n",
       "      <th>principal</th>\n",
       "      <th>requestId</th>\n",
       "      <th>requestURI</th>\n",
       "      <th>requestURL</th>\n",
       "      <th>signature</th>\n",
       "      <th>signatureFull</th>\n",
       "      <th>signatureId</th>\n",
       "      <th>threadName</th>\n",
       "      <th>userAgent</th>\n",
       "      <th>timestamp</th>\n",
       "    </tr>\n",
       "  </thead>\n",
       "  <tbody>\n",
       "    <tr>\n",
       "      <th>0</th>\n",
       "      <td>device</td>\n",
       "      <td>None</td>\n",
       "      <td>production</td>\n",
       "      <td>core-cloud</td>\n",
       "      <td>CCB:9ae22714-7c8c-4490-8f07-d5fd7793b6cf</td>\n",
       "      <td>NaN</td>\n",
       "      <td>119</td>\n",
       "      <td>logsearch-lifeline-agent-stateful-0.logsearch-...</td>\n",
       "      <td>401</td>\n",
       "      <td>production</td>\n",
       "      <td>...</td>\n",
       "      <td>None</td>\n",
       "      <td>a3818cc09b0af2d7c72134ca5fa93eda</td>\n",
       "      <td>/device-api/registration</td>\n",
       "      <td>https://connect.g2bcc.com/device-api/registration</td>\n",
       "      <td>None</td>\n",
       "      <td>None</td>\n",
       "      <td>None</td>\n",
       "      <td>http-nio-8080-exec-29</td>\n",
       "      <td>sharedlogic/3.22.5-0 (bsp 10.8.0-0, model 1.2....</td>\n",
       "      <td>2025-01-16 08:45:23.365</td>\n",
       "    </tr>\n",
       "    <tr>\n",
       "      <th>1</th>\n",
       "      <td>device</td>\n",
       "      <td>DeviceApiV2DeviceController</td>\n",
       "      <td>production</td>\n",
       "      <td>core-cloud</td>\n",
       "      <td>CCB:fc660e65-b629-4ca1-9adc-ac91cd3fb090</td>\n",
       "      <td>NaN</td>\n",
       "      <td>24</td>\n",
       "      <td>logsearch-lifeline-agent-stateful-0.logsearch-...</td>\n",
       "      <td>200</td>\n",
       "      <td>production</td>\n",
       "      <td>...</td>\n",
       "      <td>4d284824-f2dc-4e47-9641-9c4bd115fbab</td>\n",
       "      <td>db0062793fb9ee45787e4588891f15dc</td>\n",
       "      <td>/device-api/v2/devices/8acbcbb2-0649-429b-b09b...</td>\n",
       "      <td>https://connect.g2bcc.com/device-api/v2/device...</td>\n",
       "      <td>DeviceApiV2DeviceController.getTaskList(String...</td>\n",
       "      <td>ch.belimo.cloud.server.deviceapi.v2.DeviceApiV...</td>\n",
       "      <td>111elm3x3ote5</td>\n",
       "      <td>http-nio-8080-exec-93</td>\n",
       "      <td></td>\n",
       "      <td>2025-01-16 08:45:23.450</td>\n",
       "    </tr>\n",
       "    <tr>\n",
       "      <th>2</th>\n",
       "      <td>device</td>\n",
       "      <td>DeviceApiV2DeviceController</td>\n",
       "      <td>production</td>\n",
       "      <td>core-cloud</td>\n",
       "      <td>CCB:6cb197c0-6be1-4e49-82f4-90539ab6ded2</td>\n",
       "      <td>NaN</td>\n",
       "      <td>23</td>\n",
       "      <td>logsearch-lifeline-agent-stateful-0.logsearch-...</td>\n",
       "      <td>200</td>\n",
       "      <td>production</td>\n",
       "      <td>...</td>\n",
       "      <td>d68a34f0-379c-4534-84e9-0278b8539c11</td>\n",
       "      <td>93df335640a41a3e4b1ecc00a4e58304</td>\n",
       "      <td>/device-api/v2/devices/fec4211e-1d9a-41c8-820d...</td>\n",
       "      <td>https://connect.g2bcc.com/device-api/v2/device...</td>\n",
       "      <td>DeviceApiV2DeviceController.getTaskList(String...</td>\n",
       "      <td>ch.belimo.cloud.server.deviceapi.v2.DeviceApiV...</td>\n",
       "      <td>111elm3x3ote5</td>\n",
       "      <td>http-nio-8080-exec-146</td>\n",
       "      <td></td>\n",
       "      <td>2025-01-16 08:45:23.452</td>\n",
       "    </tr>\n",
       "  </tbody>\n",
       "</table>\n",
       "<p>3 rows × 21 columns</p>\n",
       "</div>"
      ],
      "text/plain": [
       "      api                        class    cloudEnv   component  \\\n",
       "0  device                         None  production  core-cloud   \n",
       "1  device  DeviceApiV2DeviceController  production  core-cloud   \n",
       "2  device  DeviceApiV2DeviceController  production  core-cloud   \n",
       "\n",
       "                              correlationId  developmentDevice  durationInMs  \\\n",
       "0  CCB:9ae22714-7c8c-4490-8f07-d5fd7793b6cf                NaN           119   \n",
       "1  CCB:fc660e65-b629-4ca1-9adc-ac91cd3fb090                NaN            24   \n",
       "2  CCB:6cb197c0-6be1-4e49-82f4-90539ab6ded2                NaN            23   \n",
       "\n",
       "                                                host  httpStatus      logEnv  \\\n",
       "0  logsearch-lifeline-agent-stateful-0.logsearch-...         401  production   \n",
       "1  logsearch-lifeline-agent-stateful-0.logsearch-...         200  production   \n",
       "2  logsearch-lifeline-agent-stateful-0.logsearch-...         200  production   \n",
       "\n",
       "   ...                             principal  \\\n",
       "0  ...                                  None   \n",
       "1  ...  4d284824-f2dc-4e47-9641-9c4bd115fbab   \n",
       "2  ...  d68a34f0-379c-4534-84e9-0278b8539c11   \n",
       "\n",
       "                          requestId  \\\n",
       "0  a3818cc09b0af2d7c72134ca5fa93eda   \n",
       "1  db0062793fb9ee45787e4588891f15dc   \n",
       "2  93df335640a41a3e4b1ecc00a4e58304   \n",
       "\n",
       "                                          requestURI  \\\n",
       "0                           /device-api/registration   \n",
       "1  /device-api/v2/devices/8acbcbb2-0649-429b-b09b...   \n",
       "2  /device-api/v2/devices/fec4211e-1d9a-41c8-820d...   \n",
       "\n",
       "                                          requestURL  \\\n",
       "0  https://connect.g2bcc.com/device-api/registration   \n",
       "1  https://connect.g2bcc.com/device-api/v2/device...   \n",
       "2  https://connect.g2bcc.com/device-api/v2/device...   \n",
       "\n",
       "                                           signature  \\\n",
       "0                                               None   \n",
       "1  DeviceApiV2DeviceController.getTaskList(String...   \n",
       "2  DeviceApiV2DeviceController.getTaskList(String...   \n",
       "\n",
       "                                       signatureFull    signatureId  \\\n",
       "0                                               None           None   \n",
       "1  ch.belimo.cloud.server.deviceapi.v2.DeviceApiV...  111elm3x3ote5   \n",
       "2  ch.belimo.cloud.server.deviceapi.v2.DeviceApiV...  111elm3x3ote5   \n",
       "\n",
       "               threadName                                          userAgent  \\\n",
       "0   http-nio-8080-exec-29  sharedlogic/3.22.5-0 (bsp 10.8.0-0, model 1.2....   \n",
       "1   http-nio-8080-exec-93                                                      \n",
       "2  http-nio-8080-exec-146                                                      \n",
       "\n",
       "                timestamp  \n",
       "0 2025-01-16 08:45:23.365  \n",
       "1 2025-01-16 08:45:23.450  \n",
       "2 2025-01-16 08:45:23.452  \n",
       "\n",
       "[3 rows x 21 columns]"
      ]
     },
     "execution_count": 42,
     "metadata": {},
     "output_type": "execute_result"
    }
   ],
   "source": [
    "df = spark.read.format(\"deltaSharing\").load(\"config.share#start_hack_2025.start_hack_2025.cc_api_logs\").limit(3)\n",
    "df.toPandas()"
   ]
  }
 ],
 "metadata": {
  "application/vnd.databricks.v1+notebook": {
   "computePreferences": null,
   "dashboards": [],
   "environmentMetadata": {
    "base_environment": "",
    "client": "1"
   },
   "language": "python",
   "notebookMetadata": {
    "mostRecentlyExecutedCommandWithImplicitDF": {
     "commandId": 898704397433521,
     "dataframes": [
      "_sqldf"
     ]
    },
    "pythonIndentUnit": 4
   },
   "notebookName": "2025-start-hack-belimo-getting-started",
   "widgets": {}
  },
  "kernelspec": {
   "display_name": "Python 3 (ipykernel)",
   "language": "python",
   "name": "python3"
  },
  "language_info": {
   "codemirror_mode": {
    "name": "ipython",
    "version": 3
   },
   "file_extension": ".py",
   "mimetype": "text/x-python",
   "name": "python",
   "nbconvert_exporter": "python",
   "pygments_lexer": "ipython3",
   "version": "3.12.9"
  }
 },
 "nbformat": 4,
 "nbformat_minor": 4
}
